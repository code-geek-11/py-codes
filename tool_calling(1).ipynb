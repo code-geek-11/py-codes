{
 "cells": [
  {
   "cell_type": "markdown",
   "id": "9e4c2504-cd51-4e4e-b52b-908c311d0901",
   "metadata": {},
   "source": [
    "<h1 style=\"color:blue;\">Install this package for groq langchain integrations</h1>"
   ]
  },
  {
   "cell_type": "code",
   "execution_count": 2,
   "id": "63121678-6b17-40a9-9d15-ead220ead2ad",
   "metadata": {},
   "outputs": [],
   "source": [
    "#pip install langchain-groq"
   ]
  },
  {
   "cell_type": "markdown",
   "id": "3b747c01-a6a3-4f8b-af8b-ccf77b665f58",
   "metadata": {},
   "source": [
    "<h1 style=\"color:blue;\">Packages required for this tutorial</h1>"
   ]
  },
  {
   "cell_type": "code",
   "execution_count": 4,
   "id": "37f5c3d3-c79b-44e4-9925-b0eda84ead9e",
   "metadata": {},
   "outputs": [],
   "source": [
    "import os\n",
    "from langchain_groq import ChatGroq\n",
    "from langchain_core.tools import tool"
   ]
  },
  {
   "cell_type": "markdown",
   "id": "8801788f-ca59-42af-9e64-0afcb352262e",
   "metadata": {},
   "source": [
    "<h1 style=\"color:blue;\">API key from GROQ</h1>"
   ]
  },
  {
   "cell_type": "code",
   "execution_count": 6,
   "id": "90c6590a-cdd1-4ed1-bb49-4238670a52ce",
   "metadata": {},
   "outputs": [
    {
     "name": "stdin",
     "output_type": "stream",
     "text": [
      "Enter your Groq API key:  ········\n"
     ]
    }
   ],
   "source": [
    "os.environ[\"GROQ_API_KEY\"] = getpass.getpass(\"Enter your Groq API key: \")"
   ]
  },
  {
   "cell_type": "markdown",
   "id": "14ad0a59-a1bc-427e-aa15-da174bf80e6d",
   "metadata": {},
   "source": [
    "<h1 style=\"color:blue;\">LLM Model instance with all required attributes</h1>"
   ]
  },
  {
   "cell_type": "code",
   "execution_count": 8,
   "id": "a98c5543-bcc5-470f-a3e7-3265d7f1ae64",
   "metadata": {},
   "outputs": [],
   "source": [
    "gmodel = ChatGroq(\n",
    "    model=\"deepseek-r1-distill-llama-70b\",\n",
    "    temperature=0,\n",
    "    max_tokens=None,\n",
    "    timeout=None,\n",
    "    max_retries=2,\n",
    ")"
   ]
  },
  {
   "cell_type": "markdown",
   "id": "1caaa6ff-8d32-48cf-b7a0-72ccb6ae5ec5",
   "metadata": {},
   "source": [
    "<h1 style=\"color:blue;\">Tool Creation</h1>"
   ]
  },
  {
   "cell_type": "code",
   "execution_count": 10,
   "id": "d36b63e0-382d-4bf8-a31e-40621ca7b241",
   "metadata": {},
   "outputs": [],
   "source": [
    "@tool\n",
    "def sum(a:int,b:int)->int:\n",
    "    \"\"\"Add a and b\"\"\"\n",
    "    return a+b"
   ]
  },
  {
   "cell_type": "code",
   "execution_count": 11,
   "id": "8b3244aa-d82b-4beb-b0d6-e656386bfbe4",
   "metadata": {},
   "outputs": [],
   "source": [
    "@tool\n",
    "def sub(a:int,b:int)->int:\n",
    "    \"\"\"Subtract b from a\"\"\"\n",
    "    return a-b"
   ]
  },
  {
   "cell_type": "markdown",
   "id": "25b185bb-5312-4e6a-97d2-ba506869729c",
   "metadata": {},
   "source": [
    "<h1 style=\"color:blue;\">Tool Binding</h1>"
   ]
  },
  {
   "cell_type": "code",
   "execution_count": 13,
   "id": "c8679974-000b-4e44-886a-aa80f7b365e7",
   "metadata": {},
   "outputs": [],
   "source": [
    "tools = [sum,sub]"
   ]
  },
  {
   "cell_type": "code",
   "execution_count": 14,
   "id": "b9d544be-af6e-4376-93a5-7bc8ccf490af",
   "metadata": {},
   "outputs": [],
   "source": [
    "gmodel_with_tools = gmodel.bind_tools(tools)"
   ]
  },
  {
   "cell_type": "markdown",
   "id": "bb0b5524-101a-4cf8-b95b-869f387bdb2e",
   "metadata": {},
   "source": [
    "<h1 style=\"color:blue;\">Tool Calling</h1>"
   ]
  },
  {
   "cell_type": "code",
   "execution_count": 47,
   "id": "338ea7e7-2f61-4d64-b23d-d17717578430",
   "metadata": {},
   "outputs": [],
   "source": [
    "result = gmodel_with_tools.invoke(\"I wanted to add two numbers 200 and 561\")"
   ]
  },
  {
   "cell_type": "markdown",
   "id": "4b098546-7c83-40d4-994c-3a99dafae8af",
   "metadata": {},
   "source": [
    "<h1 style=\"color:blue;\">The output will only inform which tool has been selected for getting invoked</h1>"
   ]
  },
  {
   "cell_type": "code",
   "execution_count": 49,
   "id": "025b9994-5f4a-47d5-ae4d-51bf02c108a1",
   "metadata": {},
   "outputs": [
    {
     "data": {
      "text/plain": [
       "AIMessage(content='', additional_kwargs={'tool_calls': [{'id': 'call_k0y3', 'function': {'arguments': '{\"a\": 200, \"b\": 561}', 'name': 'sum'}, 'type': 'function'}]}, response_metadata={'token_usage': {'completion_tokens': 229, 'prompt_tokens': 178, 'total_tokens': 407, 'completion_time': 0.832727273, 'prompt_time': 0.012492101, 'queue_time': 0.093955187, 'total_time': 0.845219374}, 'model_name': 'deepseek-r1-distill-llama-70b', 'system_fingerprint': 'fp_2834edf0f4', 'finish_reason': 'tool_calls', 'logprobs': None}, id='run-b6048b81-124c-4403-a86a-2e3e2f47b5ad-0', tool_calls=[{'name': 'sum', 'args': {'a': 200, 'b': 561}, 'id': 'call_k0y3', 'type': 'tool_call'}], usage_metadata={'input_tokens': 178, 'output_tokens': 229, 'total_tokens': 407})"
      ]
     },
     "execution_count": 49,
     "metadata": {},
     "output_type": "execute_result"
    }
   ],
   "source": [
    "result"
   ]
  },
  {
   "cell_type": "markdown",
   "id": "f22db549-e568-4150-8ddc-806bd8f0f546",
   "metadata": {},
   "source": [
    "<h1 style=\"color:blue;\">Extract the tool details and the arguments to pass to the tool</h1>"
   ]
  },
  {
   "cell_type": "code",
   "execution_count": 51,
   "id": "8e712f72-f911-4376-9889-5a586bec1b96",
   "metadata": {},
   "outputs": [],
   "source": [
    "tool_call = result.tool_calls[0]"
   ]
  },
  {
   "cell_type": "code",
   "execution_count": 53,
   "id": "9e355e6b-1f63-46ce-8d80-b98a1c318581",
   "metadata": {},
   "outputs": [
    {
     "data": {
      "text/plain": [
       "{'name': 'sum',\n",
       " 'args': {'a': 200, 'b': 561},\n",
       " 'id': 'call_k0y3',\n",
       " 'type': 'tool_call'}"
      ]
     },
     "execution_count": 53,
     "metadata": {},
     "output_type": "execute_result"
    }
   ],
   "source": [
    "tool_call"
   ]
  },
  {
   "cell_type": "code",
   "execution_count": 55,
   "id": "e552575b-9339-420b-b21c-00b118e38e6f",
   "metadata": {},
   "outputs": [],
   "source": [
    "tool_name = tool_call['name']"
   ]
  },
  {
   "cell_type": "code",
   "execution_count": 57,
   "id": "8aa8c4b7-a52b-44b3-ad48-4171fd2d8c4d",
   "metadata": {},
   "outputs": [],
   "source": [
    "args=tool_call['args']"
   ]
  },
  {
   "cell_type": "markdown",
   "id": "e2924027-5780-4d6b-a013-5830d613dbc6",
   "metadata": {},
   "source": [
    "<h1 style=\"color:blue;\">Execute the tool based on the decision made</h1>"
   ]
  },
  {
   "cell_type": "code",
   "execution_count": 59,
   "id": "0f7ca1a7-824a-4616-b7df-e9e04fc3f7d6",
   "metadata": {},
   "outputs": [
    {
     "name": "stdout",
     "output_type": "stream",
     "text": [
      "Result of addition: 761\n"
     ]
    }
   ],
   "source": [
    "tool_args = tool_call[\"args\"]\n",
    "\n",
    "# Execute the tool\n",
    "if tool_name == \"sum\":\n",
    "    tool_result = sum.invoke(tool_args)  # Use .invoke() instead of direct call\n",
    "    print(\"Result of addition:\", tool_result)\n",
    "else:\n",
    "    tool_result = sub.invoke(tool_args)  # Use .invoke() instead of direct call\n",
    "    print(\"Result of subtraction:\", tool_result)"
   ]
  }
 ],
 "metadata": {
  "kernelspec": {
   "display_name": "Python 3 (ipykernel)",
   "language": "python",
   "name": "python3"
  },
  "language_info": {
   "codemirror_mode": {
    "name": "ipython",
    "version": 3
   },
   "file_extension": ".py",
   "mimetype": "text/x-python",
   "name": "python",
   "nbconvert_exporter": "python",
   "pygments_lexer": "ipython3",
   "version": "3.12.7"
  }
 },
 "nbformat": 4,
 "nbformat_minor": 5
}
