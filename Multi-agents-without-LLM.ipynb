{
 "cells": [
  {
   "cell_type": "code",
   "execution_count": 1,
   "id": "770fcf5b-6934-43e2-bfcc-ba77435cf514",
   "metadata": {},
   "outputs": [],
   "source": [
    "import os\n",
    "import graphviz\n",
    "from langchain_groq import ChatGroq\n",
    "from langchain_core.tools import tool\n",
    "import networkx as nx\n",
    "import matplotlib.pyplot as plt"
   ]
  },
  {
   "cell_type": "code",
   "execution_count": 2,
   "id": "940df316-a077-44b8-acd1-9b99ab124dde",
   "metadata": {},
   "outputs": [],
   "source": [
    "from langchain.agents import Tool, initialize_agent\n",
    "from langgraph.graph import StateGraph, END\n",
    "from typing import TypedDict"
   ]
  },
  {
   "cell_type": "code",
   "execution_count": 3,
   "id": "1b26d8eb-3828-4ea6-a255-449ce556a4c9",
   "metadata": {},
   "outputs": [],
   "source": [
    "os.environ[\"GROQ_API_KEY\"] = \"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\""
   ]
  },
  {
   "cell_type": "markdown",
   "id": "ef3a83f4-cf55-411e-aba8-947cbe2812d9",
   "metadata": {},
   "source": [
    "Tools"
   ]
  },
  {
   "cell_type": "code",
   "execution_count": 5,
   "id": "ad1cfa1a-ad6c-48fe-8b14-c39819244fd5",
   "metadata": {},
   "outputs": [],
   "source": [
    "# Agent 1 Tools\n",
    "def extract_mood(query: str) -> str:\n",
    "    \"\"\"Simulate mood extraction based on query\"\"\"\n",
    "    if \"adventurous\" in query:\n",
    "        return \"adventurous\"\n",
    "    elif \"relaxed\" in query:\n",
    "        return \"relaxed\"\n",
    "    return \"neutral\"\n",
    "\n",
    "def decide_destination(mood: str) -> str:\n",
    "    \"\"\"Simulate holiday destination selection based on mood\"\"\"\n",
    "    if mood == \"adventurous\":\n",
    "        return \"Mountains\"\n",
    "    elif mood == \"relaxed\":\n",
    "        return \"Beach\"\n",
    "    return \"City\"\n",
    "\n",
    "# Agent 2 Tools\n",
    "def extract_budget(query: str) -> float:\n",
    "    \"\"\"Simulate budget extraction from the query\"\"\"\n",
    "    if \"budget of\" in query:\n",
    "        budget = float(query.split(\"budget of $\")[1].split()[0])\n",
    "        return budget\n",
    "    return 1000  # Default budget if none is provided\n",
    "\n",
    "def book_flight(budget: float) -> str:\n",
    "    \"\"\"Simulate flight booking based on the budget\"\"\"\n",
    "    if budget >= 1500:\n",
    "        return \"Business class flight booked.\"\n",
    "    return \"Economy class flight booked.\"\n",
    "\n",
    "# Agent 3 Tools\n",
    "def check_room_availability(destination: str) -> bool:\n",
    "    \"\"\"Simulate room availability based on the destination\"\"\"\n",
    "    # For simplicity, assume that rooms are always available at the destination\n",
    "    return True\n",
    "\n",
    "def book_hotel(destination: str) -> str:\n",
    "    \"\"\"Simulate hotel booking based on destination\"\"\"\n",
    "    if destination == \"Mountains\":\n",
    "        return \"Booked a resort with adventure activities.\"\n",
    "    elif destination == \"Beach\":\n",
    "        return \"Booked a beachfront hotel.\"\n",
    "    return \"Booked a city hotel.\"\n",
    "\n",
    "# Agent 4 Tools\n",
    "def generate_trip_summary(flight: str, hotel: str) -> str:\n",
    "    \"\"\"Generate a trip summary\"\"\"\n",
    "    return f\"Trip Summary: {flight} and {hotel}.\"\n"
   ]
  },
  {
   "cell_type": "markdown",
   "id": "0ec39266-80aa-467a-9d1c-cdde306a0a35",
   "metadata": {},
   "source": [
    "Agents"
   ]
  },
  {
   "cell_type": "code",
   "execution_count": 7,
   "id": "57d4854d-e957-4657-afce-8404884f66b4",
   "metadata": {},
   "outputs": [],
   "source": [
    "# Define Agent 1: Extract Mood and Decide Destination\n",
    "def agent_1(state):\n",
    "    user_input = state[\"input\"]\n",
    "    mood = extract_mood(user_input)  # Extract mood from the input\n",
    "    destination = decide_destination(mood)  # Decide destination based on mood\n",
    "    return {\"input\": user_input, \"mood\": mood, \"destination\": destination}\n",
    "\n",
    "# Define Agent 2: Extract Budget and Book Flight\n",
    "def agent_2(state):\n",
    "    user_input = state[\"input\"]\n",
    "    destination = state[\"destination\"]\n",
    "    budget = extract_budget(user_input)  # Extract budget from the input\n",
    "    flight = book_flight(budget)  # Book flight based on budget\n",
    "    return {\"flight\": flight,\"destination\": destination}\n",
    "\n",
    "# Define Agent 3: Book Hotel Based on Destination\n",
    "def agent_3(state):\n",
    "    destination = state[\"destination\"]\n",
    "    flight = state[\"flight\"]\n",
    "    if check_room_availability(destination):  # Check if rooms are available\n",
    "        hotel = book_hotel(destination)  # Book hotel based on destination\n",
    "        return {\"hotel\": hotel,\"flight\": flight}\n",
    "    return {\"hotel\": \"No rooms available.\",\"flight\": flight}\n",
    "\n",
    "# Define Agent 4: Provide a Summary of the Trip\n",
    "def agent_4(state):\n",
    "    flight = state[\"flight\"]\n",
    "    hotel = state[\"hotel\"]\n",
    "    summary = generate_trip_summary(flight, hotel)  # Generate trip summary\n",
    "    return {\"summary\": summary}\n"
   ]
  },
  {
   "cell_type": "code",
   "execution_count": 8,
   "id": "ded4016b-76cc-4337-abe4-f399de7d5b03",
   "metadata": {},
   "outputs": [],
   "source": [
    "def router_node(state):\n",
    "    # Returning a dictionary that signals the end of the flow\n",
    "    return state"
   ]
  },
  {
   "cell_type": "code",
   "execution_count": 9,
   "id": "8c9e82b9-e8ec-4dc0-99de-fe1a11666a79",
   "metadata": {},
   "outputs": [],
   "source": [
    "graph = StateGraph(dict)"
   ]
  },
  {
   "cell_type": "code",
   "execution_count": 10,
   "id": "c3bd9948-4fa7-4d33-9bf4-d1d94dc79819",
   "metadata": {},
   "outputs": [
    {
     "data": {
      "text/plain": [
       "<langgraph.graph.state.StateGraph at 0x1666952bcb0>"
      ]
     },
     "execution_count": 10,
     "metadata": {},
     "output_type": "execute_result"
    }
   ],
   "source": [
    "graph.add_node(\"agent_1\", agent_1)       # Extract mood → decide destination\n",
    "graph.add_node(\"agent_2\", agent_2)       # Extract budget → book flight\n",
    "graph.add_node(\"agent_3\", agent_3)       # Book hotel\n",
    "graph.add_node(\"agent_4\", agent_4)       # Generate summary\n",
    "graph.add_node(\"router\", router_node)    # Optional routing or final cleanup\n",
    "\n",
    "graph.set_entry_point(\"agent_1\")\n",
    "\n",
    "# Connect nodes properly\n",
    "graph.add_edge(\"agent_1\", \"agent_2\")     # Mood and destination → agent_2\n",
    "graph.add_edge(\"agent_2\", \"agent_3\")     # Budget and flight → agent_3\n",
    "graph.add_edge(\"agent_3\", \"agent_4\")     # Hotel → agent_4\n",
    "graph.add_edge(\"agent_4\", \"router\")      # Trip summary → router\n",
    "graph.add_edge(\"router\", END)\n"
   ]
  },
  {
   "cell_type": "code",
   "execution_count": 11,
   "id": "c201f7b8-589a-48a0-a39b-2d6bfd3379a1",
   "metadata": {},
   "outputs": [],
   "source": [
    "app = graph.compile()"
   ]
  },
  {
   "cell_type": "code",
   "execution_count": 12,
   "id": "fbd51fd3-eaf7-4064-a0c3-26511377b8ba",
   "metadata": {},
   "outputs": [],
   "source": [
    "# Sample User Query\n",
    "user_input = \"I am feeling adventurous and have a budget of $1200 for my trip.\""
   ]
  },
  {
   "cell_type": "code",
   "execution_count": 13,
   "id": "dc6f7327-5f7b-42e6-a288-e228f29861a2",
   "metadata": {},
   "outputs": [],
   "source": [
    "# Run the LangGraph with the user query\n",
    "initial_state = {\"input\": user_input}"
   ]
  },
  {
   "cell_type": "code",
   "execution_count": 14,
   "id": "723277fc-19dc-42ab-aa09-760362013b34",
   "metadata": {},
   "outputs": [],
   "source": [
    "output = app.invoke({\"input\": user_input})"
   ]
  },
  {
   "cell_type": "code",
   "execution_count": 31,
   "id": "fcec3161-2ece-4001-9f12-2e850af3e7cd",
   "metadata": {},
   "outputs": [
    {
     "data": {
      "text/plain": [
       "'Trip Summary: Economy class flight booked. and Booked a resort with adventure activities..'"
      ]
     },
     "execution_count": 31,
     "metadata": {},
     "output_type": "execute_result"
    }
   ],
   "source": [
    "output[\"summary\"]"
   ]
  },
  {
   "cell_type": "code",
   "execution_count": 16,
   "id": "2917d7c7-8427-4156-900c-d115ae373128",
   "metadata": {},
   "outputs": [
    {
     "name": "stdout",
     "output_type": "stream",
     "text": [
      "Trip Summary: Economy class flight booked. and Booked a resort with adventure activities..\n"
     ]
    }
   ],
   "source": [
    "\n",
    "\n",
    "\n",
    "\n",
    "\n",
    "\n",
    "\n",
    "\n",
    "\n",
    "\n",
    "# Output the final summary from Agent 4\n",
    "print(output[\"summary\"])  # Print the trip summary from Agent 4\n"
   ]
  }
 ],
 "metadata": {
  "kernelspec": {
   "display_name": "Python 3 (ipykernel)",
   "language": "python",
   "name": "python3"
  },
  "language_info": {
   "codemirror_mode": {
    "name": "ipython",
    "version": 3
   },
   "file_extension": ".py",
   "mimetype": "text/x-python",
   "name": "python",
   "nbconvert_exporter": "python",
   "pygments_lexer": "ipython3",
   "version": "3.12.7"
  }
 },
 "nbformat": 4,
 "nbformat_minor": 5
}
